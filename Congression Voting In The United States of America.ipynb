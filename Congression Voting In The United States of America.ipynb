{
 "cells": [
  {
   "cell_type": "code",
   "execution_count": 19,
   "metadata": {},
   "outputs": [
    {
     "name": "stdout",
     "output_type": "stream",
     "text": [
      "181    rep\n",
      "90     rep\n",
      "105    rep\n",
      "148    rep\n",
      "162    rep\n",
      "      ... \n",
      "334    rep\n",
      "121    rep\n",
      "193    rep\n",
      "237    rep\n",
      "283    rep\n",
      "Name: political_party, Length: 109, dtype: object\n",
      "['rep' 'rep' 'rep' 'rep' 'rep' 'rep' 'rep' 'rep' 'rep' 'rep' 'rep' 'rep'\n",
      " 'rep' 'rep' 'rep' 'rep' 'rep' 'rep' 'rep' 'rep' 'rep' 'rep' 'rep' 'rep'\n",
      " 'rep' 'rep' 'rep' 'rep' 'rep' 'rep' 'rep' 'rep' 'rep' 'rep' 'rep' 'rep'\n",
      " 'rep' 'rep' 'rep' 'rep' 'rep' 'rep' 'rep' 'rep' 'rep' 'rep' 'rep' 'rep'\n",
      " 'rep' 'rep' 'rep' 'rep' 'rep' 'rep' 'rep' 'rep' 'rep' 'rep' 'rep' 'rep'\n",
      " 'rep' 'rep' 'rep' 'rep' 'rep' 'rep' 'rep' 'rep' 'rep' 'rep' 'rep' 'rep'\n",
      " 'rep' 'rep' 'rep' 'rep' 'rep' 'rep' 'rep' 'rep' 'rep' 'rep' 'rep' 'rep'\n",
      " 'rep' 'rep' 'rep' 'rep' 'rep' 'rep' 'rep' 'rep' 'rep' 'rep' 'rep' 'rep'\n",
      " 'rep' 'rep' 'rep' 'rep' 'rep' 'rep' 'rep' 'rep' 'rep' 'rep' 'rep' 'rep'\n",
      " 'rep']\n",
      "<function accuracy_score at 0x0974A070>\n"
     ]
    }
   ],
   "source": [
    "import numpy as np\n",
    "import pandas as pd\n",
    "import matplotlib as mpl\n",
    "import matplotlib.pyplot as plt\n",
    "import seaborn as sns\n",
    "%matplotlib inline\n",
    "dataset = pd.read_csv(r\"C:\\Users\\OYINLOLA SALIM O\\Desktop\\ML Codes\\Congretional Voting Model\\congressional_voting_dataset1.csv\")\n",
    "dataset = dataset.replace([\"?\"],'0')\n",
    "\n",
    "dataset = dataset.replace(['dem',1])\n",
    "dataset = dataset.replace(['rep',0])\n",
    "\n",
    "dataset.head()\n",
    "x = dataset.drop(columns = [\"political_party\"])\n",
    "y= dataset['political_party']\n",
    "#print(x[0])\n",
    "from sklearn.model_selection import train_test_split\n",
    "x_train, x_test, y_train, y_test = train_test_split(x,y,test_size = 0.25)\n",
    "from sklearn.naive_bayes import GaussianNB\n",
    "gnb = GaussianNB()\n",
    "gnb.fit(x_train, y_train)\n",
    "y_model = gnb.predict(x_test)\n",
    "print(y_test)\n",
    "from sklearn.metrics import accuracy_score\n",
    "accuracy_score(y_test, y_model)\n",
    "print(y_model)\n",
    "\n",
    "#print(prediction)\n",
    "print(accuracy_score)"
   ]
  },
  {
   "cell_type": "code",
   "execution_count": null,
   "metadata": {},
   "outputs": [],
   "source": []
  },
  {
   "cell_type": "code",
   "execution_count": null,
   "metadata": {},
   "outputs": [],
   "source": []
  }
 ],
 "metadata": {
  "kernelspec": {
   "display_name": "Python 3",
   "language": "python",
   "name": "python3"
  },
  "language_info": {
   "codemirror_mode": {
    "name": "ipython",
    "version": 3
   },
   "file_extension": ".py",
   "mimetype": "text/x-python",
   "name": "python",
   "nbconvert_exporter": "python",
   "pygments_lexer": "ipython3",
   "version": "3.8.3"
  }
 },
 "nbformat": 4,
 "nbformat_minor": 4
}
